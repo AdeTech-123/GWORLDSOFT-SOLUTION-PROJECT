{
 "cells": [
  {
   "cell_type": "markdown",
   "id": "7485a284-e0d3-496c-868f-12b3a1210ffd",
   "metadata": {},
   "source": [
    "# **Global Terrorism Data Analysis**\n",
    "\n",
    "**Introduction:**\n",
    "\n",
    "Terrorism remains a critical global security issue. This project analyzes attack patterns,\n",
    "geographical hotspots, and trends over time. Students will perform exploratory data analysis\n",
    "(EDA) to uncover insights into terrorist activities worldwide."
   ]
  },
  {
   "cell_type": "code",
   "execution_count": 38,
   "id": "2953da43-7e71-4b12-8a3c-6db6cf6b0a59",
   "metadata": {},
   "outputs": [],
   "source": [
    "import numpy as np\n",
    "import pandas as pd\n",
    "import matplotlib.pyplot as plt \n",
    "import plotly.graph_objects as go\n",
    "import seaborn as sns\n",
    "import warnings\n",
    "warnings.filterwarnings('ignore')"
   ]
  },
  {
   "cell_type": "markdown",
   "id": "57733d84-06ce-41c8-82c3-49bc623ab3ef",
   "metadata": {},
   "source": [
    "**LOAD DATA**"
   ]
  },
  {
   "cell_type": "code",
   "execution_count": 60,
   "id": "66788ba4-3733-4b58-9596-94cf0c60d6ee",
   "metadata": {},
   "outputs": [],
   "source": [
    "gtd = pd.read_csv('globalterrorismdb_0718dist-Copy1.csv', encoding='ISO-8859-1') \n",
    "# or try other encoding like 'ISO-8859-1', 'cp1252' if 'latin-1' does not work')"
   ]
  },
  {
   "cell_type": "markdown",
   "id": "f496e480-58cd-4374-9c3e-b4c60dd431da",
   "metadata": {},
   "source": []
  },
  {
   "cell_type": "code",
   "execution_count": 62,
   "id": "612f75f6-61d6-4645-9fba-0951f2c04821",
   "metadata": {},
   "outputs": [
    {
     "data": {
      "text/html": [
       "<div>\n",
       "<style scoped>\n",
       "    .dataframe tbody tr th:only-of-type {\n",
       "        vertical-align: middle;\n",
       "    }\n",
       "\n",
       "    .dataframe tbody tr th {\n",
       "        vertical-align: top;\n",
       "    }\n",
       "\n",
       "    .dataframe thead th {\n",
       "        text-align: right;\n",
       "    }\n",
       "</style>\n",
       "<table border=\"1\" class=\"dataframe\">\n",
       "  <thead>\n",
       "    <tr style=\"text-align: right;\">\n",
       "      <th></th>\n",
       "      <th>eventid</th>\n",
       "      <th>iyear</th>\n",
       "      <th>imonth</th>\n",
       "      <th>iday</th>\n",
       "      <th>approxdate</th>\n",
       "      <th>extended</th>\n",
       "      <th>resolution</th>\n",
       "      <th>country</th>\n",
       "      <th>country_txt</th>\n",
       "      <th>region</th>\n",
       "      <th>...</th>\n",
       "      <th>addnotes</th>\n",
       "      <th>scite1</th>\n",
       "      <th>scite2</th>\n",
       "      <th>scite3</th>\n",
       "      <th>dbsource</th>\n",
       "      <th>INT_LOG</th>\n",
       "      <th>INT_IDEO</th>\n",
       "      <th>INT_MISC</th>\n",
       "      <th>INT_ANY</th>\n",
       "      <th>related</th>\n",
       "    </tr>\n",
       "  </thead>\n",
       "  <tbody>\n",
       "    <tr>\n",
       "      <th>0</th>\n",
       "      <td>197000000001</td>\n",
       "      <td>1970</td>\n",
       "      <td>7</td>\n",
       "      <td>2</td>\n",
       "      <td>NaN</td>\n",
       "      <td>0</td>\n",
       "      <td>NaN</td>\n",
       "      <td>58</td>\n",
       "      <td>Dominican Republic</td>\n",
       "      <td>2</td>\n",
       "      <td>...</td>\n",
       "      <td>NaN</td>\n",
       "      <td>NaN</td>\n",
       "      <td>NaN</td>\n",
       "      <td>NaN</td>\n",
       "      <td>PGIS</td>\n",
       "      <td>0</td>\n",
       "      <td>0</td>\n",
       "      <td>0</td>\n",
       "      <td>0</td>\n",
       "      <td>NaN</td>\n",
       "    </tr>\n",
       "    <tr>\n",
       "      <th>1</th>\n",
       "      <td>197000000002</td>\n",
       "      <td>1970</td>\n",
       "      <td>0</td>\n",
       "      <td>0</td>\n",
       "      <td>NaN</td>\n",
       "      <td>0</td>\n",
       "      <td>NaN</td>\n",
       "      <td>130</td>\n",
       "      <td>Mexico</td>\n",
       "      <td>1</td>\n",
       "      <td>...</td>\n",
       "      <td>NaN</td>\n",
       "      <td>NaN</td>\n",
       "      <td>NaN</td>\n",
       "      <td>NaN</td>\n",
       "      <td>PGIS</td>\n",
       "      <td>0</td>\n",
       "      <td>1</td>\n",
       "      <td>1</td>\n",
       "      <td>1</td>\n",
       "      <td>NaN</td>\n",
       "    </tr>\n",
       "    <tr>\n",
       "      <th>2</th>\n",
       "      <td>197001000001</td>\n",
       "      <td>1970</td>\n",
       "      <td>1</td>\n",
       "      <td>0</td>\n",
       "      <td>NaN</td>\n",
       "      <td>0</td>\n",
       "      <td>NaN</td>\n",
       "      <td>160</td>\n",
       "      <td>Philippines</td>\n",
       "      <td>5</td>\n",
       "      <td>...</td>\n",
       "      <td>NaN</td>\n",
       "      <td>NaN</td>\n",
       "      <td>NaN</td>\n",
       "      <td>NaN</td>\n",
       "      <td>PGIS</td>\n",
       "      <td>-9</td>\n",
       "      <td>-9</td>\n",
       "      <td>1</td>\n",
       "      <td>1</td>\n",
       "      <td>NaN</td>\n",
       "    </tr>\n",
       "    <tr>\n",
       "      <th>3</th>\n",
       "      <td>197001000002</td>\n",
       "      <td>1970</td>\n",
       "      <td>1</td>\n",
       "      <td>0</td>\n",
       "      <td>NaN</td>\n",
       "      <td>0</td>\n",
       "      <td>NaN</td>\n",
       "      <td>78</td>\n",
       "      <td>Greece</td>\n",
       "      <td>8</td>\n",
       "      <td>...</td>\n",
       "      <td>NaN</td>\n",
       "      <td>NaN</td>\n",
       "      <td>NaN</td>\n",
       "      <td>NaN</td>\n",
       "      <td>PGIS</td>\n",
       "      <td>-9</td>\n",
       "      <td>-9</td>\n",
       "      <td>1</td>\n",
       "      <td>1</td>\n",
       "      <td>NaN</td>\n",
       "    </tr>\n",
       "    <tr>\n",
       "      <th>4</th>\n",
       "      <td>197001000003</td>\n",
       "      <td>1970</td>\n",
       "      <td>1</td>\n",
       "      <td>0</td>\n",
       "      <td>NaN</td>\n",
       "      <td>0</td>\n",
       "      <td>NaN</td>\n",
       "      <td>101</td>\n",
       "      <td>Japan</td>\n",
       "      <td>4</td>\n",
       "      <td>...</td>\n",
       "      <td>NaN</td>\n",
       "      <td>NaN</td>\n",
       "      <td>NaN</td>\n",
       "      <td>NaN</td>\n",
       "      <td>PGIS</td>\n",
       "      <td>-9</td>\n",
       "      <td>-9</td>\n",
       "      <td>1</td>\n",
       "      <td>1</td>\n",
       "      <td>NaN</td>\n",
       "    </tr>\n",
       "  </tbody>\n",
       "</table>\n",
       "<p>5 rows × 135 columns</p>\n",
       "</div>"
      ],
      "text/plain": [
       "        eventid  iyear  imonth  iday approxdate  extended resolution  country  \\\n",
       "0  197000000001   1970       7     2        NaN         0        NaN       58   \n",
       "1  197000000002   1970       0     0        NaN         0        NaN      130   \n",
       "2  197001000001   1970       1     0        NaN         0        NaN      160   \n",
       "3  197001000002   1970       1     0        NaN         0        NaN       78   \n",
       "4  197001000003   1970       1     0        NaN         0        NaN      101   \n",
       "\n",
       "          country_txt  region  ... addnotes scite1 scite2  scite3  dbsource  \\\n",
       "0  Dominican Republic       2  ...      NaN    NaN    NaN     NaN      PGIS   \n",
       "1              Mexico       1  ...      NaN    NaN    NaN     NaN      PGIS   \n",
       "2         Philippines       5  ...      NaN    NaN    NaN     NaN      PGIS   \n",
       "3              Greece       8  ...      NaN    NaN    NaN     NaN      PGIS   \n",
       "4               Japan       4  ...      NaN    NaN    NaN     NaN      PGIS   \n",
       "\n",
       "   INT_LOG  INT_IDEO INT_MISC INT_ANY  related  \n",
       "0        0         0        0       0      NaN  \n",
       "1        0         1        1       1      NaN  \n",
       "2       -9        -9        1       1      NaN  \n",
       "3       -9        -9        1       1      NaN  \n",
       "4       -9        -9        1       1      NaN  \n",
       "\n",
       "[5 rows x 135 columns]"
      ]
     },
     "execution_count": 62,
     "metadata": {},
     "output_type": "execute_result"
    }
   ],
   "source": [
    "gtd.head()"
   ]
  },
  {
   "cell_type": "code",
   "execution_count": 66,
   "id": "3312e0ed-385b-4013-9ed4-c1f888c12a8b",
   "metadata": {},
   "outputs": [
    {
     "data": {
      "text/plain": [
       "(181691, 135)"
      ]
     },
     "execution_count": 66,
     "metadata": {},
     "output_type": "execute_result"
    }
   ],
   "source": [
    "gtd.shape"
   ]
  },
  {
   "cell_type": "code",
   "execution_count": 68,
   "id": "1fab1d2c-d497-4975-bd2a-d5da27d0b03b",
   "metadata": {},
   "outputs": [
    {
     "data": {
      "text/plain": [
       "Index(['eventid', 'iyear', 'imonth', 'iday', 'approxdate', 'extended',\n",
       "       'resolution', 'country', 'country_txt', 'region',\n",
       "       ...\n",
       "       'addnotes', 'scite1', 'scite2', 'scite3', 'dbsource', 'INT_LOG',\n",
       "       'INT_IDEO', 'INT_MISC', 'INT_ANY', 'related'],\n",
       "      dtype='object', length=135)"
      ]
     },
     "execution_count": 68,
     "metadata": {},
     "output_type": "execute_result"
    }
   ],
   "source": [
    "gtd.columns"
   ]
  },
  {
   "cell_type": "code",
   "execution_count": 72,
   "id": "9871e643-ea9f-451c-a5a2-b3b7b772a759",
   "metadata": {},
   "outputs": [
    {
     "name": "stdout",
     "output_type": "stream",
     "text": [
      "<class 'pandas.core.frame.DataFrame'>\n",
      "RangeIndex: 181691 entries, 0 to 181690\n",
      "Columns: 135 entries, eventid to related\n",
      "dtypes: float64(55), int64(22), object(58)\n",
      "memory usage: 187.1+ MB\n"
     ]
    }
   ],
   "source": [
    "gtd.info()"
   ]
  },
  {
   "cell_type": "code",
   "execution_count": 74,
   "id": "38d2ab65-5898-40b8-8295-2b35c927eb9c",
   "metadata": {},
   "outputs": [
    {
     "data": {
      "text/plain": [
       "eventid               181691\n",
       "iyear                     47\n",
       "imonth                    13\n",
       "iday                      32\n",
       "approxdate              2244\n",
       "extended                   2\n",
       "resolution              1859\n",
       "country                  205\n",
       "country_txt              205\n",
       "region                    12\n",
       "region_txt                12\n",
       "provstate               2855\n",
       "city                   36673\n",
       "latitude               48322\n",
       "longitude              48039\n",
       "specificity                5\n",
       "vicinity                   3\n",
       "location               44109\n",
       "summary               112492\n",
       "crit1                      2\n",
       "crit2                      2\n",
       "crit3                      2\n",
       "doubtterr                  3\n",
       "alternative                5\n",
       "alternative_txt            5\n",
       "multiple                   2\n",
       "success                    2\n",
       "suicide                    2\n",
       "attacktype1                9\n",
       "attacktype1_txt            9\n",
       "attacktype2                9\n",
       "attacktype2_txt            9\n",
       "attacktype3                8\n",
       "attacktype3_txt            8\n",
       "targtype1                 22\n",
       "targtype1_txt             22\n",
       "targsubtype1             112\n",
       "targsubtype1_txt         112\n",
       "corp1                  33237\n",
       "target1                86005\n",
       "natlty1                  215\n",
       "natlty1_txt              215\n",
       "targtype2                 22\n",
       "targtype2_txt             22\n",
       "targsubtype2             107\n",
       "targsubtype2_txt         107\n",
       "corp2                   2691\n",
       "target2                 5043\n",
       "natlty2                  158\n",
       "natlty2_txt              158\n",
       "targtype3                 20\n",
       "targtype3_txt             20\n",
       "targsubtype3              92\n",
       "targsubtype3_txt          92\n",
       "corp3                    422\n",
       "target3                  720\n",
       "natlty3                  110\n",
       "natlty3_txt              110\n",
       "gname                   3537\n",
       "gsubname                1183\n",
       "gname2                   433\n",
       "gsubname2                 60\n",
       "gname3                   116\n",
       "gsubname3                 14\n",
       "motive                 14490\n",
       "guncertain1                2\n",
       "guncertain2                2\n",
       "guncertain3                2\n",
       "individual                 2\n",
       "nperps                   113\n",
       "nperpcap                  50\n",
       "claimed                    3\n",
       "claimmode                 10\n",
       "claimmode_txt             10\n",
       "claim2                     3\n",
       "claimmode2                 9\n",
       "claimmode2_txt             9\n",
       "claim3                     2\n",
       "claimmode3                 8\n",
       "claimmode3_txt             8\n",
       "compclaim                  3\n",
       "weaptype1                 12\n",
       "weaptype1_txt             12\n",
       "weapsubtype1              30\n",
       "weapsubtype1_txt          30\n",
       "weaptype2                 11\n",
       "weaptype2_txt             11\n",
       "weapsubtype2              28\n",
       "weapsubtype2_txt          28\n",
       "weaptype3                 10\n",
       "weaptype3_txt             10\n",
       "weapsubtype3              22\n",
       "weapsubtype3_txt          22\n",
       "weaptype4                  5\n",
       "weaptype4_txt              5\n",
       "weapsubtype4              16\n",
       "weapsubtype4_txt          16\n",
       "weapdetail             19148\n",
       "nkill                    205\n",
       "nkillus                   31\n",
       "nkillter                  96\n",
       "nwound                   238\n",
       "nwoundus                  44\n",
       "nwoundte                  44\n",
       "property                   3\n",
       "propextent                 4\n",
       "propextent_txt             4\n",
       "propvalue                659\n",
       "propcomment            19157\n",
       "ishostkid                  3\n",
       "nhostkid                 209\n",
       "nhostkidus                27\n",
       "nhours                    35\n",
       "ndays                    328\n",
       "divert                   143\n",
       "kidhijcountry            217\n",
       "ransom                     3\n",
       "ransomamt                429\n",
       "ransomamtus               23\n",
       "ransompaid               156\n",
       "ransompaidus               8\n",
       "ransomnote               386\n",
       "hostkidoutcome             7\n",
       "hostkidoutcome_txt         7\n",
       "nreleased                156\n",
       "addnotes               15429\n",
       "scite1                 83988\n",
       "scite2                 62263\n",
       "scite3                 36090\n",
       "dbsource                  26\n",
       "INT_LOG                    3\n",
       "INT_IDEO                   3\n",
       "INT_MISC                   3\n",
       "INT_ANY                    3\n",
       "related                14306\n",
       "dtype: int64"
      ]
     },
     "execution_count": 74,
     "metadata": {},
     "output_type": "execute_result"
    }
   ],
   "source": [
    "pd.set_option('display.max_rows', 1000); \n",
    "gtd.nunique()"
   ]
  },
  {
   "cell_type": "code",
   "execution_count": 76,
   "id": "5d67e487-bd2a-41df-bd64-220fb2ba5cc5",
   "metadata": {},
   "outputs": [
    {
     "data": {
      "text/plain": [
       "<bound method DataFrame.any of         eventid  iyear  imonth   iday  approxdate  extended  resolution  \\\n",
       "0         False  False   False  False        True     False        True   \n",
       "1         False  False   False  False        True     False        True   \n",
       "2         False  False   False  False        True     False        True   \n",
       "3         False  False   False  False        True     False        True   \n",
       "4         False  False   False  False        True     False        True   \n",
       "...         ...    ...     ...    ...         ...       ...         ...   \n",
       "181686    False  False   False  False        True     False        True   \n",
       "181687    False  False   False  False        True     False        True   \n",
       "181688    False  False   False  False        True     False        True   \n",
       "181689    False  False   False  False        True     False        True   \n",
       "181690    False  False   False  False        True     False        True   \n",
       "\n",
       "        country  country_txt  region  ...  addnotes  scite1  scite2  scite3  \\\n",
       "0         False        False   False  ...      True    True    True    True   \n",
       "1         False        False   False  ...      True    True    True    True   \n",
       "2         False        False   False  ...      True    True    True    True   \n",
       "3         False        False   False  ...      True    True    True    True   \n",
       "4         False        False   False  ...      True    True    True    True   \n",
       "...         ...          ...     ...  ...       ...     ...     ...     ...   \n",
       "181686    False        False   False  ...      True   False   False   False   \n",
       "181687    False        False   False  ...      True   False   False   False   \n",
       "181688    False        False   False  ...      True   False    True    True   \n",
       "181689    False        False   False  ...      True   False    True    True   \n",
       "181690    False        False   False  ...      True   False   False    True   \n",
       "\n",
       "        dbsource  INT_LOG  INT_IDEO  INT_MISC  INT_ANY  related  \n",
       "0          False    False     False     False    False     True  \n",
       "1          False    False     False     False    False     True  \n",
       "2          False    False     False     False    False     True  \n",
       "3          False    False     False     False    False     True  \n",
       "4          False    False     False     False    False     True  \n",
       "...          ...      ...       ...       ...      ...      ...  \n",
       "181686     False    False     False     False    False     True  \n",
       "181687     False    False     False     False    False     True  \n",
       "181688     False    False     False     False    False     True  \n",
       "181689     False    False     False     False    False     True  \n",
       "181690     False    False     False     False    False     True  \n",
       "\n",
       "[181691 rows x 135 columns]>"
      ]
     },
     "execution_count": 76,
     "metadata": {},
     "output_type": "execute_result"
    }
   ],
   "source": [
    "gtd.isnull().any"
   ]
  },
  {
   "cell_type": "code",
   "execution_count": 80,
   "id": "c394d767-5459-47fa-a554-349cbd6174a1",
   "metadata": {},
   "outputs": [
    {
     "data": {
      "text/plain": [
       "eventid                    0\n",
       "iyear                      0\n",
       "imonth                     0\n",
       "iday                       0\n",
       "approxdate            172452\n",
       "extended                   0\n",
       "resolution            179471\n",
       "country                    0\n",
       "country_txt                0\n",
       "region                     0\n",
       "region_txt                 0\n",
       "provstate                421\n",
       "city                     435\n",
       "latitude                4556\n",
       "longitude               4557\n",
       "specificity                6\n",
       "vicinity                   0\n",
       "location              126196\n",
       "summary                66129\n",
       "crit1                      0\n",
       "crit2                      0\n",
       "crit3                      0\n",
       "doubtterr                  1\n",
       "alternative           152680\n",
       "alternative_txt       152680\n",
       "multiple                   1\n",
       "success                    0\n",
       "suicide                    0\n",
       "attacktype1                0\n",
       "attacktype1_txt            0\n",
       "attacktype2           175377\n",
       "attacktype2_txt       175377\n",
       "attacktype3           181263\n",
       "attacktype3_txt       181263\n",
       "targtype1                  0\n",
       "targtype1_txt              0\n",
       "targsubtype1           10373\n",
       "targsubtype1_txt       10373\n",
       "corp1                  42552\n",
       "target1                  638\n",
       "natlty1                 1559\n",
       "natlty1_txt             1559\n",
       "targtype2             170547\n",
       "targtype2_txt         170547\n",
       "targsubtype2          171006\n",
       "targsubtype2_txt      171006\n",
       "corp2                 171574\n",
       "target2               170671\n",
       "natlty2               170863\n",
       "natlty2_txt           170863\n",
       "targtype3             180515\n",
       "targtype3_txt         180515\n",
       "targsubtype3          180594\n",
       "targsubtype3_txt      180594\n",
       "corp3                 180665\n",
       "target3               180516\n",
       "natlty3               180544\n",
       "natlty3_txt           180544\n",
       "gname                      0\n",
       "gsubname              175801\n",
       "gname2                179678\n",
       "gsubname2             181531\n",
       "gname3                181367\n",
       "gsubname3             181671\n",
       "motive                131130\n",
       "guncertain1              380\n",
       "guncertain2           179736\n",
       "guncertain3           181371\n",
       "individual                 0\n",
       "nperps                 71115\n",
       "nperpcap               69489\n",
       "claimed                66120\n",
       "claimmode             162608\n",
       "claimmode_txt         162608\n",
       "claim2                179801\n",
       "claimmode2            181075\n",
       "claimmode2_txt        181075\n",
       "claim3                181373\n",
       "claimmode3            181558\n",
       "claimmode3_txt        181558\n",
       "compclaim             176852\n",
       "weaptype1                  0\n",
       "weaptype1_txt              0\n",
       "weapsubtype1           20768\n",
       "weapsubtype1_txt       20768\n",
       "weaptype2             168564\n",
       "weaptype2_txt         168564\n",
       "weapsubtype2          170149\n",
       "weapsubtype2_txt      170149\n",
       "weaptype3             179828\n",
       "weaptype3_txt         179828\n",
       "weapsubtype3          179998\n",
       "weapsubtype3_txt      179998\n",
       "weaptype4             181618\n",
       "weaptype4_txt         181618\n",
       "weapsubtype4          181621\n",
       "weapsubtype4_txt      181621\n",
       "weapdetail             67670\n",
       "nkill                  10313\n",
       "nkillus                64446\n",
       "nkillter               66958\n",
       "nwound                 16311\n",
       "nwoundus               64702\n",
       "nwoundte               69143\n",
       "property                   0\n",
       "propextent            117626\n",
       "propextent_txt        117626\n",
       "propvalue             142702\n",
       "propcomment           123732\n",
       "ishostkid                178\n",
       "nhostkid              168119\n",
       "nhostkidus            168174\n",
       "nhours                177628\n",
       "ndays                 173567\n",
       "divert                181367\n",
       "kidhijcountry         178386\n",
       "ransom                104310\n",
       "ransomamt             180341\n",
       "ransomamtus           181128\n",
       "ransompaid            180917\n",
       "ransompaidus          181139\n",
       "ransomnote            181179\n",
       "hostkidoutcome        170700\n",
       "hostkidoutcome_txt    170700\n",
       "nreleased             171291\n",
       "addnotes              153402\n",
       "scite1                 66191\n",
       "scite2                104758\n",
       "scite3                138175\n",
       "dbsource                   0\n",
       "INT_LOG                    0\n",
       "INT_IDEO                   0\n",
       "INT_MISC                   0\n",
       "INT_ANY                    0\n",
       "related               156653\n",
       "dtype: int64"
      ]
     },
     "execution_count": 80,
     "metadata": {},
     "output_type": "execute_result"
    }
   ],
   "source": [
    "pd.set_option('display.max_rows', 1000); \n",
    "gtd.isnull().sum()"
   ]
  },
  {
   "cell_type": "markdown",
   "id": "38d251bf-9234-4f92-a5d4-8ef1c27616df",
   "metadata": {},
   "source": [
    "There are 135 columns and extracting those columns which provide meaningful insights and renaming them here."
   ]
  },
  {
   "cell_type": "code",
   "execution_count": 82,
   "id": "4abd5f00-efb1-482a-84c2-d3c95808af6d",
   "metadata": {},
   "outputs": [],
   "source": [
    "gtd.rename(columns = {'iyear':'Year','imonth':'Month','iday':'Day','country_txt':'Country','provstate':'State','region_txt':'Region','attacktype1_txt':'Attack_type','target1':'Target','nkill':'Killed','nwound':'Wounded','summary':'Summary','gname':'Group','targtype1_txt':'Target_type','weaptype1_txt':'Weapon_type','motive':'Motive'},inplace=True)"
   ]
  },
  {
   "cell_type": "code",
   "execution_count": 86,
   "id": "3e795802-f931-4648-919f-97a8f711851c",
   "metadata": {},
   "outputs": [],
   "source": [
    "New_data = gtd[['Year','Month','Day','Country','State','Region','city','latitude','longitude','Attack_type','Killed','Wounded','Target','Summary','Group','Target_type','Weapon_type','Motive']]"
   ]
  },
  {
   "cell_type": "markdown",
   "id": "b716235d-7795-437c-b8e7-426c38f115b3",
   "metadata": {},
   "source": [
    "**HANDLING MISSING VALUES**"
   ]
  },
  {
   "cell_type": "code",
   "execution_count": 92,
   "id": "6445213d-9ac3-4cd9-be29-99ad51e1e6b5",
   "metadata": {},
   "outputs": [
    {
     "data": {
      "text/html": [
       "<div>\n",
       "<style scoped>\n",
       "    .dataframe tbody tr th:only-of-type {\n",
       "        vertical-align: middle;\n",
       "    }\n",
       "\n",
       "    .dataframe tbody tr th {\n",
       "        vertical-align: top;\n",
       "    }\n",
       "\n",
       "    .dataframe thead th {\n",
       "        text-align: right;\n",
       "    }\n",
       "</style>\n",
       "<table border=\"1\" class=\"dataframe\">\n",
       "  <thead>\n",
       "    <tr style=\"text-align: right;\">\n",
       "      <th></th>\n",
       "      <th>Year</th>\n",
       "      <th>Month</th>\n",
       "      <th>Day</th>\n",
       "      <th>latitude</th>\n",
       "      <th>longitude</th>\n",
       "      <th>Killed</th>\n",
       "      <th>Wounded</th>\n",
       "    </tr>\n",
       "  </thead>\n",
       "  <tbody>\n",
       "    <tr>\n",
       "      <th>count</th>\n",
       "      <td>181691.000000</td>\n",
       "      <td>181691.000000</td>\n",
       "      <td>181691.000000</td>\n",
       "      <td>177135.000000</td>\n",
       "      <td>1.771340e+05</td>\n",
       "      <td>171378.000000</td>\n",
       "      <td>165380.000000</td>\n",
       "    </tr>\n",
       "    <tr>\n",
       "      <th>mean</th>\n",
       "      <td>2002.638997</td>\n",
       "      <td>6.467277</td>\n",
       "      <td>15.505644</td>\n",
       "      <td>23.498343</td>\n",
       "      <td>-4.586957e+02</td>\n",
       "      <td>2.403272</td>\n",
       "      <td>3.167668</td>\n",
       "    </tr>\n",
       "    <tr>\n",
       "      <th>std</th>\n",
       "      <td>13.259430</td>\n",
       "      <td>3.388303</td>\n",
       "      <td>8.814045</td>\n",
       "      <td>18.569242</td>\n",
       "      <td>2.047790e+05</td>\n",
       "      <td>11.545741</td>\n",
       "      <td>35.949392</td>\n",
       "    </tr>\n",
       "    <tr>\n",
       "      <th>min</th>\n",
       "      <td>1970.000000</td>\n",
       "      <td>0.000000</td>\n",
       "      <td>0.000000</td>\n",
       "      <td>-53.154613</td>\n",
       "      <td>-8.618590e+07</td>\n",
       "      <td>0.000000</td>\n",
       "      <td>0.000000</td>\n",
       "    </tr>\n",
       "    <tr>\n",
       "      <th>25%</th>\n",
       "      <td>1991.000000</td>\n",
       "      <td>4.000000</td>\n",
       "      <td>8.000000</td>\n",
       "      <td>11.510046</td>\n",
       "      <td>4.545640e+00</td>\n",
       "      <td>0.000000</td>\n",
       "      <td>0.000000</td>\n",
       "    </tr>\n",
       "    <tr>\n",
       "      <th>50%</th>\n",
       "      <td>2009.000000</td>\n",
       "      <td>6.000000</td>\n",
       "      <td>15.000000</td>\n",
       "      <td>31.467463</td>\n",
       "      <td>4.324651e+01</td>\n",
       "      <td>0.000000</td>\n",
       "      <td>0.000000</td>\n",
       "    </tr>\n",
       "    <tr>\n",
       "      <th>75%</th>\n",
       "      <td>2014.000000</td>\n",
       "      <td>9.000000</td>\n",
       "      <td>23.000000</td>\n",
       "      <td>34.685087</td>\n",
       "      <td>6.871033e+01</td>\n",
       "      <td>2.000000</td>\n",
       "      <td>2.000000</td>\n",
       "    </tr>\n",
       "    <tr>\n",
       "      <th>max</th>\n",
       "      <td>2017.000000</td>\n",
       "      <td>12.000000</td>\n",
       "      <td>31.000000</td>\n",
       "      <td>74.633553</td>\n",
       "      <td>1.793667e+02</td>\n",
       "      <td>1570.000000</td>\n",
       "      <td>8191.000000</td>\n",
       "    </tr>\n",
       "  </tbody>\n",
       "</table>\n",
       "</div>"
      ],
      "text/plain": [
       "                Year          Month            Day       latitude  \\\n",
       "count  181691.000000  181691.000000  181691.000000  177135.000000   \n",
       "mean     2002.638997       6.467277      15.505644      23.498343   \n",
       "std        13.259430       3.388303       8.814045      18.569242   \n",
       "min      1970.000000       0.000000       0.000000     -53.154613   \n",
       "25%      1991.000000       4.000000       8.000000      11.510046   \n",
       "50%      2009.000000       6.000000      15.000000      31.467463   \n",
       "75%      2014.000000       9.000000      23.000000      34.685087   \n",
       "max      2017.000000      12.000000      31.000000      74.633553   \n",
       "\n",
       "          longitude         Killed        Wounded  \n",
       "count  1.771340e+05  171378.000000  165380.000000  \n",
       "mean  -4.586957e+02       2.403272       3.167668  \n",
       "std    2.047790e+05      11.545741      35.949392  \n",
       "min   -8.618590e+07       0.000000       0.000000  \n",
       "25%    4.545640e+00       0.000000       0.000000  \n",
       "50%    4.324651e+01       0.000000       0.000000  \n",
       "75%    6.871033e+01       2.000000       2.000000  \n",
       "max    1.793667e+02    1570.000000    8191.000000  "
      ]
     },
     "execution_count": 92,
     "metadata": {},
     "output_type": "execute_result"
    }
   ],
   "source": [
    "New_data.describe()"
   ]
  },
  {
   "cell_type": "code",
   "execution_count": 94,
   "id": "90f1579c-c6ac-44f0-a9f2-3b038ab9e5bb",
   "metadata": {},
   "outputs": [
    {
     "data": {
      "text/plain": [
       "Year                0\n",
       "Month               0\n",
       "Day                 0\n",
       "Country             0\n",
       "State             421\n",
       "Region              0\n",
       "city              435\n",
       "latitude         4556\n",
       "longitude        4557\n",
       "Attack_type         0\n",
       "Killed          10313\n",
       "Wounded         16311\n",
       "Target            638\n",
       "Summary         66129\n",
       "Group               0\n",
       "Target_type         0\n",
       "Weapon_type         0\n",
       "Motive         131130\n",
       "dtype: int64"
      ]
     },
     "execution_count": 94,
     "metadata": {},
     "output_type": "execute_result"
    }
   ],
   "source": [
    "New_data.isnull().sum()"
   ]
  },
  {
   "cell_type": "code",
   "execution_count": 96,
   "id": "97833323-0850-4b04-a32c-c956e0e84ad5",
   "metadata": {},
   "outputs": [],
   "source": [
    "New_data['State'].fillna(0,inplace=True)\n",
    "New_data['city'].fillna(0,inplace=True)\n",
    "New_data['latitude'].fillna(0,inplace=True)\n",
    "New_data['longitude'].fillna(0,inplace=True)\n",
    "New_data['Killed'].fillna(0,inplace=True)\n",
    "New_data['Wounded'].fillna(0,inplace=True)\n",
    "New_data['Target'].fillna(0,inplace=True)\n",
    "New_data['Summary'].fillna(0,inplace=True)\n",
    "New_data['Motive'].fillna(0,inplace=True) \n",
    "New_data['Group'].fillna(0,inplace=True)\n",
    "New_data['Weapon_type'].fillna(0,inplace=True)"
   ]
  },
  {
   "cell_type": "code",
   "execution_count": 98,
   "id": "834a3e60-c614-42f3-a9f3-162e346bea9d",
   "metadata": {},
   "outputs": [
    {
     "data": {
      "text/plain": [
       "Year           0\n",
       "Month          0\n",
       "Day            0\n",
       "Country        0\n",
       "State          0\n",
       "Region         0\n",
       "city           0\n",
       "latitude       0\n",
       "longitude      0\n",
       "Attack_type    0\n",
       "Killed         0\n",
       "Wounded        0\n",
       "Target         0\n",
       "Summary        0\n",
       "Group          0\n",
       "Target_type    0\n",
       "Weapon_type    0\n",
       "Motive         0\n",
       "dtype: int64"
      ]
     },
     "execution_count": 98,
     "metadata": {},
     "output_type": "execute_result"
    }
   ],
   "source": [
    "New_data.isnull().sum()"
   ]
  },
  {
   "cell_type": "markdown",
   "id": "8d89aed0-b3aa-4ee7-a902-24c1c60fe4b2",
   "metadata": {},
   "source": [
    "**Perform Exploratory Data Analysis (EDA)**\n",
    "\n",
    "\n",
    "**Summary Statistics**\n"
   ]
  },
  {
   "cell_type": "code",
   "execution_count": 102,
   "id": "8d35d540-24c3-4346-becc-402d731fd906",
   "metadata": {},
   "outputs": [
    {
     "data": {
      "text/html": [
       "<div>\n",
       "<style scoped>\n",
       "    .dataframe tbody tr th:only-of-type {\n",
       "        vertical-align: middle;\n",
       "    }\n",
       "\n",
       "    .dataframe tbody tr th {\n",
       "        vertical-align: top;\n",
       "    }\n",
       "\n",
       "    .dataframe thead th {\n",
       "        text-align: right;\n",
       "    }\n",
       "</style>\n",
       "<table border=\"1\" class=\"dataframe\">\n",
       "  <thead>\n",
       "    <tr style=\"text-align: right;\">\n",
       "      <th></th>\n",
       "      <th>Year</th>\n",
       "      <th>Month</th>\n",
       "      <th>Day</th>\n",
       "      <th>latitude</th>\n",
       "      <th>longitude</th>\n",
       "      <th>Killed</th>\n",
       "      <th>Wounded</th>\n",
       "    </tr>\n",
       "  </thead>\n",
       "  <tbody>\n",
       "    <tr>\n",
       "      <th>count</th>\n",
       "      <td>181691.000000</td>\n",
       "      <td>181691.000000</td>\n",
       "      <td>181691.000000</td>\n",
       "      <td>181691.000000</td>\n",
       "      <td>1.816910e+05</td>\n",
       "      <td>181691.000000</td>\n",
       "      <td>181691.000000</td>\n",
       "    </tr>\n",
       "    <tr>\n",
       "      <th>mean</th>\n",
       "      <td>2002.638997</td>\n",
       "      <td>6.467277</td>\n",
       "      <td>15.505644</td>\n",
       "      <td>22.909109</td>\n",
       "      <td>-4.471911e+02</td>\n",
       "      <td>2.266860</td>\n",
       "      <td>2.883296</td>\n",
       "    </tr>\n",
       "    <tr>\n",
       "      <th>std</th>\n",
       "      <td>13.259430</td>\n",
       "      <td>3.388303</td>\n",
       "      <td>8.814045</td>\n",
       "      <td>18.699442</td>\n",
       "      <td>2.021946e+05</td>\n",
       "      <td>11.227057</td>\n",
       "      <td>34.309747</td>\n",
       "    </tr>\n",
       "    <tr>\n",
       "      <th>min</th>\n",
       "      <td>1970.000000</td>\n",
       "      <td>0.000000</td>\n",
       "      <td>0.000000</td>\n",
       "      <td>-53.154613</td>\n",
       "      <td>-8.618590e+07</td>\n",
       "      <td>0.000000</td>\n",
       "      <td>0.000000</td>\n",
       "    </tr>\n",
       "    <tr>\n",
       "      <th>25%</th>\n",
       "      <td>1991.000000</td>\n",
       "      <td>4.000000</td>\n",
       "      <td>8.000000</td>\n",
       "      <td>9.518645</td>\n",
       "      <td>1.231572e+00</td>\n",
       "      <td>0.000000</td>\n",
       "      <td>0.000000</td>\n",
       "    </tr>\n",
       "    <tr>\n",
       "      <th>50%</th>\n",
       "      <td>2009.000000</td>\n",
       "      <td>6.000000</td>\n",
       "      <td>15.000000</td>\n",
       "      <td>31.126646</td>\n",
       "      <td>4.314357e+01</td>\n",
       "      <td>0.000000</td>\n",
       "      <td>0.000000</td>\n",
       "    </tr>\n",
       "    <tr>\n",
       "      <th>75%</th>\n",
       "      <td>2014.000000</td>\n",
       "      <td>9.000000</td>\n",
       "      <td>23.000000</td>\n",
       "      <td>34.538561</td>\n",
       "      <td>6.835734e+01</td>\n",
       "      <td>2.000000</td>\n",
       "      <td>2.000000</td>\n",
       "    </tr>\n",
       "    <tr>\n",
       "      <th>max</th>\n",
       "      <td>2017.000000</td>\n",
       "      <td>12.000000</td>\n",
       "      <td>31.000000</td>\n",
       "      <td>74.633553</td>\n",
       "      <td>1.793667e+02</td>\n",
       "      <td>1570.000000</td>\n",
       "      <td>8191.000000</td>\n",
       "    </tr>\n",
       "  </tbody>\n",
       "</table>\n",
       "</div>"
      ],
      "text/plain": [
       "                Year          Month            Day       latitude  \\\n",
       "count  181691.000000  181691.000000  181691.000000  181691.000000   \n",
       "mean     2002.638997       6.467277      15.505644      22.909109   \n",
       "std        13.259430       3.388303       8.814045      18.699442   \n",
       "min      1970.000000       0.000000       0.000000     -53.154613   \n",
       "25%      1991.000000       4.000000       8.000000       9.518645   \n",
       "50%      2009.000000       6.000000      15.000000      31.126646   \n",
       "75%      2014.000000       9.000000      23.000000      34.538561   \n",
       "max      2017.000000      12.000000      31.000000      74.633553   \n",
       "\n",
       "          longitude         Killed        Wounded  \n",
       "count  1.816910e+05  181691.000000  181691.000000  \n",
       "mean  -4.471911e+02       2.266860       2.883296  \n",
       "std    2.021946e+05      11.227057      34.309747  \n",
       "min   -8.618590e+07       0.000000       0.000000  \n",
       "25%    1.231572e+00       0.000000       0.000000  \n",
       "50%    4.314357e+01       0.000000       0.000000  \n",
       "75%    6.835734e+01       2.000000       2.000000  \n",
       "max    1.793667e+02    1570.000000    8191.000000  "
      ]
     },
     "execution_count": 102,
     "metadata": {},
     "output_type": "execute_result"
    }
   ],
   "source": [
    "New_data.describe()\n"
   ]
  },
  {
   "cell_type": "markdown",
   "id": "ed89ab37-0bfa-4c18-bea6-a7270b31f27e",
   "metadata": {},
   "source": [
    "# **Visualize Attack Trends**\n"
   ]
  },
  {
   "cell_type": "code",
   "execution_count": 113,
   "id": "2fc645f1-1824-4631-9fdb-5bc6ad7355e5",
   "metadata": {},
   "outputs": [
    {
     "data": {
      "image/png": "[encoded data removed]",
      "text/plain": [
       "<Figure size 640x480 with 1 Axes>"
      ]
     },
     "metadata": {},
     "output_type": "display_data"
    }
   ],
   "source": [
    "# Bar chart for country-wise attacks\n",
    "country_attacks = New_data['Country'].value_counts().head(5)\n",
    "plt.bar(country_attacks.index, country_attacks.values)\n",
    "plt.xlabel('Country')\n",
    "plt.ylabel('Number of Attacks')\n",
    "plt.title('Countries with Highest Number of Terrorist Attacks')\n",
    "plt.show()"
   ]
  },
  {
   "cell_type": "code",
   "execution_count": 115,
   "id": "f8f8bd46-8061-4f9c-923d-aad3a8aba9f9",
   "metadata": {},
   "outputs": [
    {
     "data": {
      "image/png": "[encoded data removed]",
      "text/plain": [
       "<Figure size 640x480 with 1 Axes>"
      ]
     },
     "metadata": {},
     "output_type": "display_data"
    }
   ],
   "source": [
    "# Bar chart for attack types\n",
    "attack_types = New_data['Attack_type'].value_counts().head(5)\n",
    "plt.bar(attack_types.index, attack_types.values)\n",
    "plt.xlabel('Attack Type')\n",
    "plt.ylabel('Number of Attacks')\n",
    "plt.title('Most Common Types of Terrorist Attacks')\n",
    "plt.show()"
   ]
  },
  {
   "cell_type": "markdown",
   "id": "d45b9ccd-76fb-409e-939f-0dcbbba3d125",
   "metadata": {},
   "source": [
    " **Analyze Key Questions**\n",
    " \n",
    "1. Countries with Highest Number of Terrorist Attacks\n",
    "- Iraq, Pakistan, Afghanistan, India, and Nigeria are among the countries with the highest number of terrorist attacks.\n",
    "\n",
    "2. Most Common Types of Terrorist Attacks\n",
    "- Bombings, armed assaults, and assassinations are among the most common types of terrorist attacks.\n",
    "\n",
    "3. Trend of Terrorist Attacks Over the Years\n"
   ]
  },
  {
   "cell_type": "code",
   "execution_count": 120,
   "id": "22e6f482-2e36-4b5e-8dfe-b5a66c5ea613",
   "metadata": {},
   "outputs": [
    {
     "data": {
      "image/png": "[encoded data removed]",
      "text/plain": [
       "<Figure size 640x480 with 1 Axes>"
      ]
     },
     "metadata": {},
     "output_type": "display_data"
    }
   ],
   "source": [
    "yearly_attacks = New_data['Year'].value_counts().sort_index()\n",
    "plt.plot(yearly_attacks.index, yearly_attacks.values)\n",
    "plt.xlabel('Year')\n",
    "plt.ylabel('Number of Attacks')\n",
    "plt.title('Trend of Terrorist Attacks Over the Years')\n",
    "plt.show()"
   ]
  },
  {
   "cell_type": "markdown",
   "id": "06efa061-e59c-4ef5-b897-c984bb27f5f1",
   "metadata": {},
   "source": [
    "# **Most Active Terrorist Organizations**\n"
   ]
  },
  {
   "cell_type": "code",
   "execution_count": 150,
   "id": "69844732-496f-4c83-9732-b973335194bf",
   "metadata": {},
   "outputs": [
    {
     "data": {
      "image/png": "[encoded data removed]",
      "text/plain": [
       "<Figure size 640x480 with 1 Axes>"
      ]
     },
     "metadata": {},
     "output_type": "display_data"
    }
   ],
   "source": [
    "group_attacks = New_data['Group'].value_counts().head(5)\n",
    "plt.bar(group_attacks.index, group_attacks.values)\n",
    "plt.xlabel('Group Name')\n",
    "plt.ylabel('Number of Attacks')\n",
    "plt.title('Most Active Terrorist Organizations')\n",
    "plt.show()"
   ]
  },
  {
   "cell_type": "markdown",
   "id": "a626c670-b04e-46cf-b815-91a3bcffaf57",
   "metadata": {},
   "source": [
    "**Seasonal Trends in Terrorist Attacks**"
   ]
  },
  {
   "cell_type": "code",
   "execution_count": 152,
   "id": "8b3619ab-af4c-4cc6-86cd-c1ef24b6a8c9",
   "metadata": {},
   "outputs": [
    {
     "data": {
      "image/png": "[encoded data removed]",
      "text/plain": [
       "<Figure size 640x480 with 1 Axes>"
      ]
     },
     "metadata": {},
     "output_type": "display_data"
    }
   ],
   "source": [
    "monthly_attacks = New_data['Month'].value_counts().sort_index()\n",
    "plt.bar(monthly_attacks.index, monthly_attacks.values)\n",
    "plt.xlabel('Month')\n",
    "plt.ylabel('Number of Attacks')\n",
    "plt.title('Seasonal Trends in Terrorist Attacks')\n",
    "plt.show()"
   ]
  },
  {
   "cell_type": "markdown",
   "id": "5ff289a4-62d2-42de-8bd8-33a84a4b1af4",
   "metadata": {},
   "source": [
    "**Dominant Terrorist Group in Nigeria**"
   ]
  },
  {
   "cell_type": "code",
   "execution_count": 162,
   "id": "b50a341b-182f-4a52-a2cb-e2c50cc01fbc",
   "metadata": {},
   "outputs": [
    {
     "data": {
      "image/png": "[encoded data removed]",
      "text/plain": [
       "<Figure size 640x480 with 1 Axes>"
      ]
     },
     "metadata": {},
     "output_type": "display_data"
    }
   ],
   "source": [
    "nigeria_df = New_data[New_data['Country'] == 'Nigeria']\n",
    "nigeria_group_attacks = nigeria_df['Group'].value_counts().head(3)\n",
    "plt.bar(nigeria_group_attacks.index, nigeria_group_attacks.values)\n",
    "plt.xlabel('Group Name')\n",
    "plt.ylabel('Number of Attacks')\n",
    "plt.title('Dominant Terrorist Group in Nigeria')\n",
    "plt.show()"
   ]
  },
  {
   "cell_type": "markdown",
   "id": "98b19660-d83b-4dd8-9276-94c9873df306",
   "metadata": {},
   "source": [
    "**Greatest Target of Boko Haram in Nigeria**"
   ]
  },
  {
   "cell_type": "code",
   "execution_count": 172,
   "id": "199d0094-c9ed-4bd2-abca-e701cf29a0a4",
   "metadata": {},
   "outputs": [
    {
     "data": {
      "image/png": "[encoded data removed]",
      "text/plain": [
       "<Figure size 640x480 with 1 Axes>"
      ]
     },
     "metadata": {},
     "output_type": "display_data"
    }
   ],
   "source": [
    "boko_haram_df = nigeria_df[nigeria_df['Group'] == 'Boko Haram']\n",
    "target_attacks = boko_haram_df['Target'].value_counts().head(5)\n",
    "plt.bar(target_attacks.index, target_attacks.values)\n",
    "plt.xlabel('Target Type')\n",
    "plt.ylabel('Number of Attacks')\n",
    "plt.title('Greatest Target of Boko Haram in Nigeria')\n",
    "plt.show()"
   ]
  },
  {
   "cell_type": "markdown",
   "id": "ffccae5a-2029-4610-bd70-e59211420fd5",
   "metadata": {},
   "source": [
    "## **The analysis reveals that Boko Haram's top targets in Nigeria include:**\n",
    "\n",
    "1. Private Citizens & Property: Frequent attacks on civilians aim to instill fear and disrupt daily life.\n",
    "2. Military: Targeting military personnel and installations weakens the government's security apparatus.\n",
    "3. Police: Attacks on police forces undermine law enforcement and governance.\n",
    "4. Government (General): Targeting government buildings, officials, and institutions challenges the authority of the Nigerian government.\n",
    "5. Religious Figures/Institutions: Attacks may indicate sectarian tensions or attempts to impose the group's ideology.\n",
    "\n",
    "   **Conclusion**\n",
    "The data suggests that Boko Haram's strategy involves targeting both security forces and civilians, aiming to destabilize the region and challenge the government's authority. To effectively counter this threat, the government may consider:\n",
    "- Enhanced Security Measures: Strengthening security forces and intelligence gathering to prevent attacks on military, police, and government targets.\n",
    "- Civilian Protection: Implementing measures to protect private citizens and property, potentially through community engagement and outreach programs.\n",
    "- Countering Ideology: Developing strategies to counter Boko Haram's ideology and reduce recruitment, possibly through education and social programs.\n",
    "- Regional Cooperation: Collaborating with regional partners to share intelligence and coordinate efforts to combat Boko Haram's activities. reframe well?"
   ]
  }
 ],
 "metadata": {
  "kernelspec": {
   "display_name": "Python [conda env:base] *",
   "language": "python",
   "name": "conda-base-py"
  },
  "language_info": {
   "codemirror_mode": {
    "name": "ipython",
    "version": 3
   },
   "file_extension": ".py",
   "mimetype": "text/x-python",
   "name": "python",
   "nbconvert_exporter": "python",
   "pygments_lexer": "ipython3",
   "version": "3.12.7"
  }
 },
 "nbformat": 4,
 "nbformat_minor": 5
}
